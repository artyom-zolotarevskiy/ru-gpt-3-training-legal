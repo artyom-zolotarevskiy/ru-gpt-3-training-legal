{
 "cells": [
  {
   "cell_type": "code",
   "execution_count": 6,
   "id": "9c5958b8",
   "metadata": {},
   "outputs": [],
   "source": [
    "from selenium import webdriver\n",
    "from selenium.webdriver.common.by import By\n",
    "from selenium.webdriver.support.ui import WebDriverWait\n",
    "from selenium.webdriver.chrome.service import Service\n",
    "from selenium.webdriver.support import expected_conditions as ec\n",
    "from webdriver_manager.chrome import ChromeDriverManager\n",
    "from selenium_stealth import stealth\n",
    "\n",
    "import time\n",
    "import os\n",
    "import requests\n",
    "import json\n",
    "import base64\n",
    "from lxml import html\n",
    "import urllib\n",
    "import math\n",
    "\n",
    "import pandas as pd"
   ]
  },
  {
   "cell_type": "code",
   "execution_count": 7,
   "id": "4bb0f80b",
   "metadata": {},
   "outputs": [],
   "source": [
    "import ssl\n",
    "\n",
    "try:\n",
    "    _create_unverified_https_context = ssl._create_unverified_context\n",
    "except AttributeError:\n",
    "    # Legacy Python that doesn't verify HTTPS certificates by default\n",
    "    pass\n",
    "else:\n",
    "    # Handle target environment that doesn't support HTTPS verification\n",
    "    ssl._create_default_https_context = _create_unverified_https_context\n",
    "    "
   ]
  },
  {
   "cell_type": "code",
   "execution_count": 13,
   "id": "02eb3ae1",
   "metadata": {},
   "outputs": [
    {
     "name": "stderr",
     "output_type": "stream",
     "text": [
      "\n",
      "\n",
      "====== WebDriver manager ======\n",
      "Current google-chrome version is 113.0.5672\n",
      "Get LATEST chromedriver version for 113.0.5672 google-chrome\n",
      "Driver [/Users/artyomzolotarevskiy/.wdm/drivers/chromedriver/mac64/113.0.5672.63/chromedriver] found in cache\n"
     ]
    }
   ],
   "source": [
    "# запускаем браузер\n",
    "options = webdriver.ChromeOptions()\n",
    "\n",
    "options.add_experimental_option(\"excludeSwitches\", [\"enable-automation\"])\n",
    "options.add_experimental_option('useAutomationExtension', False)\n",
    "\n",
    "options.add_argument('--disable-blink-features=AutomationControlled')\n",
    "\n",
    "options.add_argument(\"window-size=1280,800\")\n",
    "options.add_argument(\"user-agent=Mozilla/5.0 (Windows NT 10.0; Win64; x64) AppleWebKit/537.36 (KHTML, like Gecko) Chrome/74.0.3729.169 Safari/537.36\")\n",
    "\n",
    "options.add_argument(\"user-data-dir=selenium\") \n",
    "\n",
    "driver = webdriver.Chrome(service=Service(ChromeDriverManager().install()), options=options)\n",
    "\n",
    "stealth(driver,\n",
    "    languages=[\"ru-RU\", \"ru\"],\n",
    "    vendor=\"Google Inc.\",\n",
    "    platform=\"Win32\",\n",
    "    webgl_vendor=\"Intel Inc.\",\n",
    "    renderer=\"Intel Iris OpenGL Engine\",\n",
    "    fix_hairline=True,\n",
    ")"
   ]
  },
  {
   "cell_type": "code",
   "execution_count": 14,
   "id": "37824e21",
   "metadata": {},
   "outputs": [],
   "source": [
    "url = 'https://sudact.ru/regular/doc/chaeDyxsKiYN/'"
   ]
  },
  {
   "cell_type": "code",
   "execution_count": 11,
   "id": "290703e1",
   "metadata": {},
   "outputs": [],
   "source": [
    "# открываем выдачу яндекса по данному запросу\n",
    "driver.get(url)"
   ]
  },
  {
   "cell_type": "code",
   "execution_count": null,
   "id": "2dbaa325",
   "metadata": {},
   "outputs": [],
   "source": [
    "import time\n",
    "\n",
    "while True:\n",
    "    time.sleep(3) # in seconds\n",
    "    driver.get(url)"
   ]
  },
  {
   "cell_type": "code",
   "execution_count": null,
   "id": "52a59d2c",
   "metadata": {},
   "outputs": [],
   "source": []
  }
 ],
 "metadata": {
  "kernelspec": {
   "display_name": "Python 3 (ipykernel)",
   "language": "python",
   "name": "python3"
  },
  "language_info": {
   "codemirror_mode": {
    "name": "ipython",
    "version": 3
   },
   "file_extension": ".py",
   "mimetype": "text/x-python",
   "name": "python",
   "nbconvert_exporter": "python",
   "pygments_lexer": "ipython3",
   "version": "3.9.7"
  },
  "latex_envs": {
   "LaTeX_envs_menu_present": true,
   "autoclose": false,
   "autocomplete": true,
   "bibliofile": "biblio.bib",
   "cite_by": "apalike",
   "current_citInitial": 1,
   "eqLabelWithNumbers": true,
   "eqNumInitial": 1,
   "hotkeys": {
    "equation": "Ctrl-E",
    "itemize": "Ctrl-I"
   },
   "labels_anchors": false,
   "latex_user_defs": false,
   "report_style_numbering": false,
   "user_envs_cfg": false
  }
 },
 "nbformat": 4,
 "nbformat_minor": 5
}
